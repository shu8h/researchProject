{
 "cells": [
  {
   "cell_type": "code",
   "execution_count": 1,
   "metadata": {},
   "outputs": [
    {
     "name": "stdout",
     "output_type": "stream",
     "text": [
      "Data saved to generated_data.csv\n"
     ]
    }
   ],
   "source": [
    "import csv\n",
    "import random\n",
    "\n",
    "def generate_data(num_tasks):\n",
    "    in_times = [random.randint(0, 1000) for _ in range(num_tasks)]\n",
    "    burst_times = [random.randint(1, 50) for _ in range(num_tasks)]\n",
    "    return in_times, burst_times\n",
    "\n",
    "def save_to_csv(file_path, num_tasks, in_times, burst_times):\n",
    "    with open(file_path, 'w', newline='') as file:\n",
    "        writer = csv.writer(file)\n",
    "        writer.writerow([\"in_times\", \"burst_times\"])\n",
    "\n",
    "        for i in range(num_tasks):\n",
    "            writer.writerow([in_times[i], burst_times[i]])\n",
    "\n",
    "if __name__ == \"__main__\":\n",
    "    num_tasks = 500  # Change this to the desired number of tasks\n",
    "    in_times, burst_times = generate_data(num_tasks)\n",
    "\n",
    "    csv_file_path = 'generated_data.csv'\n",
    "    save_to_csv(csv_file_path, num_tasks, in_times, burst_times)\n",
    "\n",
    "    print(f\"Data saved to {csv_file_path}\")\n"
   ]
  }
 ],
 "metadata": {
  "kernelspec": {
   "display_name": "Python 3",
   "language": "python",
   "name": "python3"
  },
  "language_info": {
   "codemirror_mode": {
    "name": "ipython",
    "version": 3
   },
   "file_extension": ".py",
   "mimetype": "text/x-python",
   "name": "python",
   "nbconvert_exporter": "python",
   "pygments_lexer": "ipython3",
   "version": "3.11.1"
  },
  "orig_nbformat": 4
 },
 "nbformat": 4,
 "nbformat_minor": 2
}
